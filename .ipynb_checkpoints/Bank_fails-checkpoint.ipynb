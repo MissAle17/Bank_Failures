{
 "cells": [
  {
   "cell_type": "markdown",
   "metadata": {},
   "source": [
    "Documenting bank failure criteria for us banks from 1934 to present day\n",
    "\n",
    "https://www.kaggle.com/fdic/bank-failures\n",
    "\n",
    "What type of banking institution is the most likely to fail? How have bank failure rates changed over time? What commercial bank failure cost the federal government the most to resolve?"
   ]
  },
  {
   "cell_type": "code",
   "execution_count": 1,
   "metadata": {},
   "outputs": [],
   "source": [
    "#importing libraries\n",
    "\n",
    "#Organization and Lineralgebra\n",
    "import pandas as pd\n",
    "import numpy as np\n",
    "\n",
    "#Visualizations\n",
    "import seaborn as sns\n",
    "import matplotlib.pyplot as plt\n",
    "%matplotlib inline \n",
    "\n",
    "\n",
    "\n",
    "\n",
    "#setting filter warnings to ignore to keep our notebook clean\n",
    "import warnings\n",
    "warnings.filterwarnings(\"ignore\")\n"
   ]
  },
  {
   "cell_type": "code",
   "execution_count": 8,
   "metadata": {},
   "outputs": [
    {
     "name": "stdout",
     "output_type": "stream",
     "text": [
      "(3484, 12)\n",
      "<class 'pandas.core.frame.DataFrame'>\n",
      "RangeIndex: 3484 entries, 0 to 3483\n",
      "Data columns (total 12 columns):\n",
      "Financial Institution Number    2883 non-null float64\n",
      "Institution Name                3484 non-null object\n",
      "Institution Type                3484 non-null object\n",
      "Charter Type                    3484 non-null object\n",
      "Headquarters                    3484 non-null object\n",
      "Failure Date                    3484 non-null object\n",
      "Insurance Fund                  3484 non-null object\n",
      "Certificate Number              2999 non-null float64\n",
      "Transaction Type                3484 non-null object\n",
      "Total Deposits                  3484 non-null int64\n",
      "Total Assets                    3333 non-null float64\n",
      "Estimated Loss (2015)           2509 non-null float64\n",
      "dtypes: float64(4), int64(1), object(7)\n",
      "memory usage: 326.8+ KB\n"
     ]
    }
   ],
   "source": [
    "#loading data\n",
    "data = pd.read_csv('banks.csv')\n",
    "\n",
    "#data overview\n",
    "print(data.shape)\n",
    "data.info()"
   ]
  },
  {
   "cell_type": "markdown",
   "metadata": {},
   "source": [
    "Notes: total assets should prob be int but is flt\n",
    "decide on what cols we need and was arent usefull.....might be able to ignore most of the missing data by not needing columns with missing info\n",
    "\n",
    "3,484 institutions, 12 columns of info"
   ]
  },
  {
   "cell_type": "code",
   "execution_count": 5,
   "metadata": {},
   "outputs": [
    {
     "data": {
      "text/html": [
       "<div>\n",
       "<style scoped>\n",
       "    .dataframe tbody tr th:only-of-type {\n",
       "        vertical-align: middle;\n",
       "    }\n",
       "\n",
       "    .dataframe tbody tr th {\n",
       "        vertical-align: top;\n",
       "    }\n",
       "\n",
       "    .dataframe thead th {\n",
       "        text-align: right;\n",
       "    }\n",
       "</style>\n",
       "<table border=\"1\" class=\"dataframe\">\n",
       "  <thead>\n",
       "    <tr style=\"text-align: right;\">\n",
       "      <th></th>\n",
       "      <th>Financial Institution Number</th>\n",
       "      <th>Certificate Number</th>\n",
       "      <th>Total Deposits</th>\n",
       "      <th>Total Assets</th>\n",
       "      <th>Estimated Loss (2015)</th>\n",
       "    </tr>\n",
       "  </thead>\n",
       "  <tbody>\n",
       "    <tr>\n",
       "      <td>count</td>\n",
       "      <td>2883.000000</td>\n",
       "      <td>2999.000000</td>\n",
       "      <td>3.484000e+03</td>\n",
       "      <td>3.333000e+03</td>\n",
       "      <td>2.509000e+03</td>\n",
       "    </tr>\n",
       "    <tr>\n",
       "      <td>mean</td>\n",
       "      <td>5571.146028</td>\n",
       "      <td>24013.859286</td>\n",
       "      <td>2.997762e+05</td>\n",
       "      <td>4.045884e+05</td>\n",
       "      <td>7.064435e+04</td>\n",
       "    </tr>\n",
       "    <tr>\n",
       "      <td>std</td>\n",
       "      <td>2846.666068</td>\n",
       "      <td>12234.422998</td>\n",
       "      <td>3.304676e+06</td>\n",
       "      <td>5.454873e+06</td>\n",
       "      <td>3.305872e+05</td>\n",
       "    </tr>\n",
       "    <tr>\n",
       "      <td>min</td>\n",
       "      <td>1122.000000</td>\n",
       "      <td>40.000000</td>\n",
       "      <td>0.000000e+00</td>\n",
       "      <td>1.400000e+01</td>\n",
       "      <td>-4.386000e+03</td>\n",
       "    </tr>\n",
       "    <tr>\n",
       "      <td>25%</td>\n",
       "      <td>2820.500000</td>\n",
       "      <td>17413.000000</td>\n",
       "      <td>1.229300e+04</td>\n",
       "      <td>1.505100e+04</td>\n",
       "      <td>3.852000e+03</td>\n",
       "    </tr>\n",
       "    <tr>\n",
       "      <td>50%</td>\n",
       "      <td>4592.000000</td>\n",
       "      <td>24846.000000</td>\n",
       "      <td>4.172100e+04</td>\n",
       "      <td>4.752300e+04</td>\n",
       "      <td>1.335400e+04</td>\n",
       "    </tr>\n",
       "    <tr>\n",
       "      <td>75%</td>\n",
       "      <td>7311.500000</td>\n",
       "      <td>30895.500000</td>\n",
       "      <td>1.562415e+05</td>\n",
       "      <td>1.734780e+05</td>\n",
       "      <td>4.458500e+04</td>\n",
       "    </tr>\n",
       "    <tr>\n",
       "      <td>max</td>\n",
       "      <td>11919.000000</td>\n",
       "      <td>91189.000000</td>\n",
       "      <td>1.882608e+08</td>\n",
       "      <td>3.070216e+08</td>\n",
       "      <td>1.243800e+07</td>\n",
       "    </tr>\n",
       "  </tbody>\n",
       "</table>\n",
       "</div>"
      ],
      "text/plain": [
       "       Financial Institution Number  Certificate Number  Total Deposits  \\\n",
       "count                   2883.000000         2999.000000    3.484000e+03   \n",
       "mean                    5571.146028        24013.859286    2.997762e+05   \n",
       "std                     2846.666068        12234.422998    3.304676e+06   \n",
       "min                     1122.000000           40.000000    0.000000e+00   \n",
       "25%                     2820.500000        17413.000000    1.229300e+04   \n",
       "50%                     4592.000000        24846.000000    4.172100e+04   \n",
       "75%                     7311.500000        30895.500000    1.562415e+05   \n",
       "max                    11919.000000        91189.000000    1.882608e+08   \n",
       "\n",
       "       Total Assets  Estimated Loss (2015)  \n",
       "count  3.333000e+03           2.509000e+03  \n",
       "mean   4.045884e+05           7.064435e+04  \n",
       "std    5.454873e+06           3.305872e+05  \n",
       "min    1.400000e+01          -4.386000e+03  \n",
       "25%    1.505100e+04           3.852000e+03  \n",
       "50%    4.752300e+04           1.335400e+04  \n",
       "75%    1.734780e+05           4.458500e+04  \n",
       "max    3.070216e+08           1.243800e+07  "
      ]
     },
     "execution_count": 5,
     "metadata": {},
     "output_type": "execute_result"
    }
   ],
   "source": [
    "#looking at numerical data\n",
    "data.describe()"
   ]
  },
  {
   "cell_type": "markdown",
   "metadata": {},
   "source": [
    "Really lo"
   ]
  },
  {
   "cell_type": "code",
   "execution_count": null,
   "metadata": {},
   "outputs": [],
   "source": []
  },
  {
   "cell_type": "code",
   "execution_count": null,
   "metadata": {},
   "outputs": [],
   "source": []
  },
  {
   "cell_type": "code",
   "execution_count": null,
   "metadata": {},
   "outputs": [],
   "source": []
  },
  {
   "cell_type": "code",
   "execution_count": null,
   "metadata": {},
   "outputs": [],
   "source": []
  },
  {
   "cell_type": "code",
   "execution_count": null,
   "metadata": {},
   "outputs": [],
   "source": []
  },
  {
   "cell_type": "code",
   "execution_count": null,
   "metadata": {},
   "outputs": [],
   "source": []
  }
 ],
 "metadata": {
  "kernelspec": {
   "display_name": "Python 3",
   "language": "python",
   "name": "python3"
  },
  "language_info": {
   "codemirror_mode": {
    "name": "ipython",
    "version": 3
   },
   "file_extension": ".py",
   "mimetype": "text/x-python",
   "name": "python",
   "nbconvert_exporter": "python",
   "pygments_lexer": "ipython3",
   "version": "3.7.4"
  }
 },
 "nbformat": 4,
 "nbformat_minor": 2
}
