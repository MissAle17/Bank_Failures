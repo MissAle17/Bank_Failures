{
 "cells": [
  {
   "cell_type": "markdown",
   "metadata": {},
   "source": [
    "Documenting bank failure criteria for us banks from 1934 to present day\n",
    "\n",
    "https://www.kaggle.com/fdic/bank-failures\n",
    "\n",
    "What type of banking institution is the most likely to fail? How have bank failure rates changed over time? What commercial bank failure cost the federal government the most to resolve?"
   ]
  },
  {
   "cell_type": "code",
   "execution_count": 1,
   "metadata": {},
   "outputs": [],
   "source": [
    "#importing libraries\n",
    "\n",
    "#Organization and Liner algebra\n",
    "import pandas as pd\n",
    "import numpy as np\n",
    "\n",
    "#Visualizations\n",
    "import seaborn as sns\n",
    "import matplotlib.pyplot as plt\n",
    "%matplotlib inline \n",
    "\n",
    "\n",
    "\n",
    "\n",
    "#setting filter warnings to ignore to keep our notebook clean\n",
    "import warnings\n",
    "warnings.filterwarnings(\"ignore\")\n"
   ]
  },
  {
   "cell_type": "code",
   "execution_count": 2,
   "metadata": {},
   "outputs": [
    {
     "name": "stdout",
     "output_type": "stream",
     "text": [
      "(3484, 12)\n",
      "<class 'pandas.core.frame.DataFrame'>\n",
      "RangeIndex: 3484 entries, 0 to 3483\n",
      "Data columns (total 12 columns):\n",
      "Financial Institution Number    2883 non-null float64\n",
      "Institution Name                3484 non-null object\n",
      "Institution Type                3484 non-null object\n",
      "Charter Type                    3484 non-null object\n",
      "Headquarters                    3484 non-null object\n",
      "Failure Date                    3484 non-null object\n",
      "Insurance Fund                  3484 non-null object\n",
      "Certificate Number              2999 non-null float64\n",
      "Transaction Type                3484 non-null object\n",
      "Total Deposits                  3484 non-null int64\n",
      "Total Assets                    3333 non-null float64\n",
      "Estimated Loss (2015)           2509 non-null float64\n",
      "dtypes: float64(4), int64(1), object(7)\n",
      "memory usage: 326.8+ KB\n"
     ]
    }
   ],
   "source": [
    "#loading data\n",
    "data = pd.read_csv('banks.csv')\n",
    "\n",
    "#data overview\n",
    "print(data.shape)\n",
    "data.info()"
   ]
  },
  {
   "cell_type": "markdown",
   "metadata": {},
   "source": [
    "Notes: total assets should prob be int but is flt\n",
    "decide on what cols we need and was arent usefull.....might be able to ignore most of the missing data by not needing columns with missing info\n",
    "\n",
    "3,484 institutions, 12 columns of info"
   ]
  },
  {
   "cell_type": "code",
   "execution_count": 3,
   "metadata": {},
   "outputs": [
    {
     "data": {
      "text/html": [
       "<div>\n",
       "<style scoped>\n",
       "    .dataframe tbody tr th:only-of-type {\n",
       "        vertical-align: middle;\n",
       "    }\n",
       "\n",
       "    .dataframe tbody tr th {\n",
       "        vertical-align: top;\n",
       "    }\n",
       "\n",
       "    .dataframe thead th {\n",
       "        text-align: right;\n",
       "    }\n",
       "</style>\n",
       "<table border=\"1\" class=\"dataframe\">\n",
       "  <thead>\n",
       "    <tr style=\"text-align: right;\">\n",
       "      <th></th>\n",
       "      <th>Financial Institution Number</th>\n",
       "      <th>Certificate Number</th>\n",
       "      <th>Total Deposits</th>\n",
       "      <th>Total Assets</th>\n",
       "      <th>Estimated Loss (2015)</th>\n",
       "    </tr>\n",
       "  </thead>\n",
       "  <tbody>\n",
       "    <tr>\n",
       "      <td>count</td>\n",
       "      <td>2883.000000</td>\n",
       "      <td>2999.000000</td>\n",
       "      <td>3.484000e+03</td>\n",
       "      <td>3.333000e+03</td>\n",
       "      <td>2.509000e+03</td>\n",
       "    </tr>\n",
       "    <tr>\n",
       "      <td>mean</td>\n",
       "      <td>5571.146028</td>\n",
       "      <td>24013.859286</td>\n",
       "      <td>2.997762e+05</td>\n",
       "      <td>4.045884e+05</td>\n",
       "      <td>7.064435e+04</td>\n",
       "    </tr>\n",
       "    <tr>\n",
       "      <td>std</td>\n",
       "      <td>2846.666068</td>\n",
       "      <td>12234.422998</td>\n",
       "      <td>3.304676e+06</td>\n",
       "      <td>5.454873e+06</td>\n",
       "      <td>3.305872e+05</td>\n",
       "    </tr>\n",
       "    <tr>\n",
       "      <td>min</td>\n",
       "      <td>1122.000000</td>\n",
       "      <td>40.000000</td>\n",
       "      <td>0.000000e+00</td>\n",
       "      <td>1.400000e+01</td>\n",
       "      <td>-4.386000e+03</td>\n",
       "    </tr>\n",
       "    <tr>\n",
       "      <td>25%</td>\n",
       "      <td>2820.500000</td>\n",
       "      <td>17413.000000</td>\n",
       "      <td>1.229300e+04</td>\n",
       "      <td>1.505100e+04</td>\n",
       "      <td>3.852000e+03</td>\n",
       "    </tr>\n",
       "    <tr>\n",
       "      <td>50%</td>\n",
       "      <td>4592.000000</td>\n",
       "      <td>24846.000000</td>\n",
       "      <td>4.172100e+04</td>\n",
       "      <td>4.752300e+04</td>\n",
       "      <td>1.335400e+04</td>\n",
       "    </tr>\n",
       "    <tr>\n",
       "      <td>75%</td>\n",
       "      <td>7311.500000</td>\n",
       "      <td>30895.500000</td>\n",
       "      <td>1.562415e+05</td>\n",
       "      <td>1.734780e+05</td>\n",
       "      <td>4.458500e+04</td>\n",
       "    </tr>\n",
       "    <tr>\n",
       "      <td>max</td>\n",
       "      <td>11919.000000</td>\n",
       "      <td>91189.000000</td>\n",
       "      <td>1.882608e+08</td>\n",
       "      <td>3.070216e+08</td>\n",
       "      <td>1.243800e+07</td>\n",
       "    </tr>\n",
       "  </tbody>\n",
       "</table>\n",
       "</div>"
      ],
      "text/plain": [
       "       Financial Institution Number  Certificate Number  Total Deposits  \\\n",
       "count                   2883.000000         2999.000000    3.484000e+03   \n",
       "mean                    5571.146028        24013.859286    2.997762e+05   \n",
       "std                     2846.666068        12234.422998    3.304676e+06   \n",
       "min                     1122.000000           40.000000    0.000000e+00   \n",
       "25%                     2820.500000        17413.000000    1.229300e+04   \n",
       "50%                     4592.000000        24846.000000    4.172100e+04   \n",
       "75%                     7311.500000        30895.500000    1.562415e+05   \n",
       "max                    11919.000000        91189.000000    1.882608e+08   \n",
       "\n",
       "       Total Assets  Estimated Loss (2015)  \n",
       "count  3.333000e+03           2.509000e+03  \n",
       "mean   4.045884e+05           7.064435e+04  \n",
       "std    5.454873e+06           3.305872e+05  \n",
       "min    1.400000e+01          -4.386000e+03  \n",
       "25%    1.505100e+04           3.852000e+03  \n",
       "50%    4.752300e+04           1.335400e+04  \n",
       "75%    1.734780e+05           4.458500e+04  \n",
       "max    3.070216e+08           1.243800e+07  "
      ]
     },
     "execution_count": 3,
     "metadata": {},
     "output_type": "execute_result"
    }
   ],
   "source": [
    "#looking at numerical data\n",
    "data.describe()"
   ]
  },
  {
   "cell_type": "markdown",
   "metadata": {},
   "source": [
    "Really lo"
   ]
  },
  {
   "cell_type": "code",
   "execution_count": 5,
   "metadata": {},
   "outputs": [
    {
     "data": {
      "text/plain": [
       "array(['BANK OF AMERICA TRUST CO.', 'FON DU LAC STATE BANK',\n",
       "       'FIRST NATIONAL BANK OF LIMA', ..., 'ALLIED BANK',\n",
       "       'HARVEST COMMUNITY BANK', 'SEAWAY BANK AND TRUST COMPANY'],\n",
       "      dtype=object)"
      ]
     },
     "execution_count": 5,
     "metadata": {},
     "output_type": "execute_result"
    }
   ],
   "source": [
    "data['Institution Name'].unique()"
   ]
  },
  {
   "cell_type": "code",
   "execution_count": 6,
   "metadata": {},
   "outputs": [
    {
     "data": {
      "text/plain": [
       "Index(['Financial Institution Number', 'Institution Name', 'Institution Type',\n",
       "       'Charter Type', 'Headquarters', 'Failure Date', 'Insurance Fund',\n",
       "       'Certificate Number', 'Transaction Type', 'Total Deposits',\n",
       "       'Total Assets', 'Estimated Loss (2015)'],\n",
       "      dtype='object')"
      ]
     },
     "execution_count": 6,
     "metadata": {},
     "output_type": "execute_result"
    }
   ],
   "source": [
    "df = data.copy()\n",
    "df.columns"
   ]
  },
  {
   "cell_type": "code",
   "execution_count": 7,
   "metadata": {},
   "outputs": [],
   "source": [
    "df = df.drop(columns =['Financial Institution Number','Certificate Number'])"
   ]
  },
  {
   "cell_type": "code",
   "execution_count": 8,
   "metadata": {},
   "outputs": [
    {
     "name": "stdout",
     "output_type": "stream",
     "text": [
      "<class 'pandas.core.frame.DataFrame'>\n",
      "RangeIndex: 3484 entries, 0 to 3483\n",
      "Data columns (total 10 columns):\n",
      "Institution Name         3484 non-null object\n",
      "Institution Type         3484 non-null object\n",
      "Charter Type             3484 non-null object\n",
      "Headquarters             3484 non-null object\n",
      "Failure Date             3484 non-null object\n",
      "Insurance Fund           3484 non-null object\n",
      "Transaction Type         3484 non-null object\n",
      "Total Deposits           3484 non-null int64\n",
      "Total Assets             3333 non-null float64\n",
      "Estimated Loss (2015)    2509 non-null float64\n",
      "dtypes: float64(2), int64(1), object(7)\n",
      "memory usage: 272.3+ KB\n"
     ]
    }
   ],
   "source": [
    "df.info()"
   ]
  },
  {
   "cell_type": "markdown",
   "metadata": {},
   "source": [
    "Time to investigate the failure date and see what that looks like.  First we'll make it a date time object, then we'll look at the distribution that shows count of fails by **date**"
   ]
  },
  {
   "cell_type": "code",
   "execution_count": 9,
   "metadata": {},
   "outputs": [
    {
     "data": {
      "text/plain": [
       "count           3484\n",
       "unique          1639\n",
       "top       3/16/1989 \n",
       "freq              51\n",
       "Name: Failure Date, dtype: object"
      ]
     },
     "execution_count": 9,
     "metadata": {},
     "output_type": "execute_result"
    }
   ],
   "source": [
    "df['Failure Date'].describe()"
   ]
  },
  {
   "cell_type": "code",
   "execution_count": 10,
   "metadata": {},
   "outputs": [
    {
     "data": {
      "text/plain": [
       "0      1934-04-19\n",
       "1      1934-05-28\n",
       "2      1934-07-18\n",
       "3      1934-07-18\n",
       "4      1934-08-06\n",
       "          ...    \n",
       "3479   2016-05-06\n",
       "3480   2016-08-19\n",
       "3481   2016-09-23\n",
       "3482   2017-01-13\n",
       "3483   2017-01-27\n",
       "Name: Failure Date, Length: 3484, dtype: datetime64[ns]"
      ]
     },
     "execution_count": 10,
     "metadata": {},
     "output_type": "execute_result"
    }
   ],
   "source": [
    "pd.to_datetime(df['Failure Date'])"
   ]
  },
  {
   "cell_type": "code",
   "execution_count": 24,
   "metadata": {},
   "outputs": [],
   "source": [
    "df['Failure Month Year'] = pd.to_datetime(df['Failure Date']).dt.to_period('M')\n"
   ]
  },
  {
   "cell_type": "code",
   "execution_count": 46,
   "metadata": {},
   "outputs": [
    {
     "name": "stdout",
     "output_type": "stream",
     "text": [
      "512 512\n"
     ]
    }
   ],
   "source": [
    "z = df['Failure Month Year'].unique()\n",
    "y = [df['Failure Month Year'][df['Failure Month Year']==i].count() for i in z]\n",
    "x = np.arange(0,len(z),1)\n",
    "print(len(z), len(y))"
   ]
  },
  {
   "cell_type": "code",
   "execution_count": 61,
   "metadata": {},
   "outputs": [
    {
     "data": {
      "image/png": "[encoded data removed]",
      "text/plain": [
       "<Figure size 864x1080 with 1 Axes>"
      ]
     },
     "metadata": {
      "needs_background": "light"
     },
     "output_type": "display_data"
    }
   ],
   "source": [
    "#creating figure and axes object\n",
    "fig, ax = plt.subplots(1,1, figsize=(12,15))\n",
    "#creating bar graph\n",
    "ax.bar(x,y)\n",
    "#label x val with dates\n",
    "ax.set_xticks(x)\n",
    "ax.set_xticklabels(x,rotation=90)\n",
    "#setting title\n",
    "plt.title('Failures by Date', fontsize = 16)\n",
    "plt.show()"
   ]
  },
  {
   "cell_type": "code",
   "execution_count": null,
   "metadata": {},
   "outputs": [],
   "source": []
  }
 ],
 "metadata": {
  "kernelspec": {
   "display_name": "Python 3",
   "language": "python",
   "name": "python3"
  },
  "language_info": {
   "codemirror_mode": {
    "name": "ipython",
    "version": 3
   },
   "file_extension": ".py",
   "mimetype": "text/x-python",
   "name": "python",
   "nbconvert_exporter": "python",
   "pygments_lexer": "ipython3",
   "version": "3.7.4"
  }
 },
 "nbformat": 4,
 "nbformat_minor": 2
}
